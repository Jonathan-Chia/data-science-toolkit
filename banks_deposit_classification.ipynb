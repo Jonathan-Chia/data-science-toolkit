{
 "cells": [
  {
   "cell_type": "markdown",
   "metadata": {},
   "source": [
    "# Bank Deposit Marketing Campaign\n",
    "\n",
    "https://www.kaggle.com/code/janiobachmann/bank-marketing-campaign-opening-a-term-deposit"
   ]
  },
  {
   "cell_type": "markdown",
   "metadata": {},
   "source": [
    "#### Bank client data:\n",
    "\n",
    "1. age: (numeric)\n",
    "2. job: type of job (categorical: 'admin.','blue-collar','entrepreneur','housemaid','management','retired','self-employed','services','student','technician','unemployed','unknown')\n",
    "3. marital: marital status (categorical: 'divorced','married','single','unknown'; note: 'divorced' means divorced or widowed)\n",
    "4. education: (categorical: primary, secondary, tertiary and unknown)\n",
    "5. default: has credit in default? (categorical: 'no','yes','unknown')\n",
    "6. housing: has housing loan? (categorical: 'no','yes','unknown')\n",
    "7. loan: has personal loan? (categorical: 'no','yes','unknown')\n",
    "8. balance: Balance of the individual.\n",
    "\n",
    "#### Related with the last contact of the current campaign:\n",
    "\n",
    "8. contact: contact communication type (categorical: 'cellular','telephone')\n",
    "9. month: last contact month of year (categorical: 'jan', 'feb', 'mar', ..., 'nov', 'dec')\n",
    "10. day: last contact day of the week (categorical: 'mon','tue','wed','thu','fri')\n",
    "11. duration: last contact duration, in seconds (numeric). Important note: this attribute highly affects the output target (e.g., if duration=0 then y='no'). Yet, the duration is not known before a call is performed. Also, after the end of the call y is obviously known. Thus, this input should only be included for benchmark purposes and should be discarded if the intention is to have a realistic predictive model.\n",
    "\n",
    "#### other attributes:\n",
    "\n",
    "12. campaign: number of contacts performed during this campaign and for this client (numeric, includes last contact)\n",
    "13. pdays: number of days that passed by after the client was last contacted from a previous campaign (numeric; 999 means client was not previously contacted)\n",
    "14. previous: number of contacts performed before this campaign and for this client (numeric)\n",
    "15. poutcome: outcome of the previous marketing campaign (categorical: 'failure','nonexistent','success')\n",
    "\n",
    "Output variable (desired target):\n",
    "21. y - has the client subscribed a term deposit? (binary: 'yes','no')"
   ]
  },
  {
   "cell_type": "markdown",
   "metadata": {},
   "source": [
    "## Overview of Analysis\n",
    "\n",
    "We want to assign a probability score that a person will subscribe to a term deposit based on their information. \n",
    "\n",
    "\n",
    "Requirements:\n",
    "\n",
    "* Interpretability vs. Prediction Accuracy?: Interpretability is probably more important - because we want to take these learnings and use them in future marketing campaigns\n",
    "* Deadline: 1 hour - quick adhoc analysis - no need to go crazy\n",
    "\n",
    "\n",
    "Models:\n",
    "\n",
    "* Let's start with a logistic first, and then can try a random forest\n",
    "* how balanced is my Y variable?\n",
    "\n",
    "Metrics:\n",
    "\n",
    "* Precision recall tradeoff? \n",
    "    * FP : someone who we think would deposit but didn't actually deposit.\n",
    "    * FN : someone we didn't think would deposit but actually did.\n",
    "    * I'd say we want less false negatives, and don't mind having more false positives.\n",
    "    * Thus, recall is more important. We can do a cost benefit analysis for this. For example one FN might cost $100, while one FP will cost like $1 to market to. \n",
    "    * We can look at ROC curve to evaluate overall model performance though. "
   ]
  },
  {
   "cell_type": "code",
   "execution_count": 53,
   "metadata": {},
   "outputs": [],
   "source": [
    "import matplotlib.pyplot as plt\n",
    "import numpy as np\n",
    "import pandas as pd\n",
    "import seaborn as sns\n",
    "from ydata_profiling import ProfileReport\n",
    "from pandasql import sqldf\n",
    "\n",
    "from sklearn.compose import ColumnTransformer\n",
    "from sklearn.pipeline import Pipeline\n",
    "from sklearn.impute import SimpleImputer\n",
    "from sklearn.preprocessing import OneHotEncoder\n",
    "from sklearn.preprocessing import StandardScaler\n",
    "\n",
    "from sklearn.model_selection import train_test_split\n",
    "from sklearn.model_selection import StratifiedShuffleSplit\n",
    "from sklearn.model_selection import cross_val_score\n",
    "from sklearn.model_selection import GridSearchCV\n",
    "\n",
    "\n",
    "\n",
    "from sklearn.linear_model import LogisticRegression\n",
    "from sklearn.ensemble import RandomForestClassifier\n",
    "from sklearn.ensemble import RandomForestClassifier\n",
    "from sklearn.ensemble import GradientBoostingClassifier\n",
    "\n",
    "from data_visualization.functions import plot_correlation_heatmap\n",
    "from feature_engineering.functions import list_categorical_columns, list_numerical_columns\n",
    "\n",
    "from sklearn.ensemble import RandomForestClassifier\n",
    "from sklearn.metrics import accuracy_score\n",
    "from sklearn.metrics import precision_score, recall_score\n",
    "from sklearn.metrics import f1_score\n",
    "from sklearn.metrics import confusion_matrix\n",
    "from sklearn.metrics import roc_auc_score\n",
    "from sklearn.metrics import roc_curve\n",
    "from sklearn.metrics import precision_recall_curve\n",
    "from sklearn.metrics import RocCurveDisplay\n",
    "from sklearn.metrics import PrecisionRecallDisplay"
   ]
  },
  {
   "cell_type": "code",
   "execution_count": 3,
   "metadata": {},
   "outputs": [
    {
     "data": {
      "text/html": [
       "<div>\n",
       "<style scoped>\n",
       "    .dataframe tbody tr th:only-of-type {\n",
       "        vertical-align: middle;\n",
       "    }\n",
       "\n",
       "    .dataframe tbody tr th {\n",
       "        vertical-align: top;\n",
       "    }\n",
       "\n",
       "    .dataframe thead th {\n",
       "        text-align: right;\n",
       "    }\n",
       "</style>\n",
       "<table border=\"1\" class=\"dataframe\">\n",
       "  <thead>\n",
       "    <tr style=\"text-align: right;\">\n",
       "      <th></th>\n",
       "      <th>age</th>\n",
       "      <th>job</th>\n",
       "      <th>marital</th>\n",
       "      <th>education</th>\n",
       "      <th>default</th>\n",
       "      <th>balance</th>\n",
       "      <th>housing</th>\n",
       "      <th>loan</th>\n",
       "      <th>contact</th>\n",
       "      <th>day</th>\n",
       "      <th>month</th>\n",
       "      <th>duration</th>\n",
       "      <th>campaign</th>\n",
       "      <th>pdays</th>\n",
       "      <th>previous</th>\n",
       "      <th>poutcome</th>\n",
       "      <th>deposit</th>\n",
       "    </tr>\n",
       "  </thead>\n",
       "  <tbody>\n",
       "    <tr>\n",
       "      <th>0</th>\n",
       "      <td>59</td>\n",
       "      <td>admin.</td>\n",
       "      <td>married</td>\n",
       "      <td>secondary</td>\n",
       "      <td>no</td>\n",
       "      <td>2343</td>\n",
       "      <td>yes</td>\n",
       "      <td>no</td>\n",
       "      <td>unknown</td>\n",
       "      <td>5</td>\n",
       "      <td>may</td>\n",
       "      <td>1042</td>\n",
       "      <td>1</td>\n",
       "      <td>-1</td>\n",
       "      <td>0</td>\n",
       "      <td>unknown</td>\n",
       "      <td>yes</td>\n",
       "    </tr>\n",
       "    <tr>\n",
       "      <th>1</th>\n",
       "      <td>56</td>\n",
       "      <td>admin.</td>\n",
       "      <td>married</td>\n",
       "      <td>secondary</td>\n",
       "      <td>no</td>\n",
       "      <td>45</td>\n",
       "      <td>no</td>\n",
       "      <td>no</td>\n",
       "      <td>unknown</td>\n",
       "      <td>5</td>\n",
       "      <td>may</td>\n",
       "      <td>1467</td>\n",
       "      <td>1</td>\n",
       "      <td>-1</td>\n",
       "      <td>0</td>\n",
       "      <td>unknown</td>\n",
       "      <td>yes</td>\n",
       "    </tr>\n",
       "    <tr>\n",
       "      <th>2</th>\n",
       "      <td>41</td>\n",
       "      <td>technician</td>\n",
       "      <td>married</td>\n",
       "      <td>secondary</td>\n",
       "      <td>no</td>\n",
       "      <td>1270</td>\n",
       "      <td>yes</td>\n",
       "      <td>no</td>\n",
       "      <td>unknown</td>\n",
       "      <td>5</td>\n",
       "      <td>may</td>\n",
       "      <td>1389</td>\n",
       "      <td>1</td>\n",
       "      <td>-1</td>\n",
       "      <td>0</td>\n",
       "      <td>unknown</td>\n",
       "      <td>yes</td>\n",
       "    </tr>\n",
       "    <tr>\n",
       "      <th>3</th>\n",
       "      <td>55</td>\n",
       "      <td>services</td>\n",
       "      <td>married</td>\n",
       "      <td>secondary</td>\n",
       "      <td>no</td>\n",
       "      <td>2476</td>\n",
       "      <td>yes</td>\n",
       "      <td>no</td>\n",
       "      <td>unknown</td>\n",
       "      <td>5</td>\n",
       "      <td>may</td>\n",
       "      <td>579</td>\n",
       "      <td>1</td>\n",
       "      <td>-1</td>\n",
       "      <td>0</td>\n",
       "      <td>unknown</td>\n",
       "      <td>yes</td>\n",
       "    </tr>\n",
       "    <tr>\n",
       "      <th>4</th>\n",
       "      <td>54</td>\n",
       "      <td>admin.</td>\n",
       "      <td>married</td>\n",
       "      <td>tertiary</td>\n",
       "      <td>no</td>\n",
       "      <td>184</td>\n",
       "      <td>no</td>\n",
       "      <td>no</td>\n",
       "      <td>unknown</td>\n",
       "      <td>5</td>\n",
       "      <td>may</td>\n",
       "      <td>673</td>\n",
       "      <td>2</td>\n",
       "      <td>-1</td>\n",
       "      <td>0</td>\n",
       "      <td>unknown</td>\n",
       "      <td>yes</td>\n",
       "    </tr>\n",
       "  </tbody>\n",
       "</table>\n",
       "</div>"
      ],
      "text/plain": [
       "   age         job  marital  education default  balance housing loan  contact  \\\n",
       "0   59      admin.  married  secondary      no     2343     yes   no  unknown   \n",
       "1   56      admin.  married  secondary      no       45      no   no  unknown   \n",
       "2   41  technician  married  secondary      no     1270     yes   no  unknown   \n",
       "3   55    services  married  secondary      no     2476     yes   no  unknown   \n",
       "4   54      admin.  married   tertiary      no      184      no   no  unknown   \n",
       "\n",
       "   day month  duration  campaign  pdays  previous poutcome deposit  \n",
       "0    5   may      1042         1     -1         0  unknown     yes  \n",
       "1    5   may      1467         1     -1         0  unknown     yes  \n",
       "2    5   may      1389         1     -1         0  unknown     yes  \n",
       "3    5   may       579         1     -1         0  unknown     yes  \n",
       "4    5   may       673         2     -1         0  unknown     yes  "
      ]
     },
     "execution_count": 3,
     "metadata": {},
     "output_type": "execute_result"
    }
   ],
   "source": [
    "df = pd.read_csv('data_visualization/bank.csv')\n",
    "df.head()"
   ]
  },
  {
   "cell_type": "code",
   "execution_count": 14,
   "metadata": {},
   "outputs": [],
   "source": [
    "def pdsqldf(q):\n",
    "    return sqldf(q, globals())"
   ]
  },
  {
   "cell_type": "code",
   "execution_count": 41,
   "metadata": {},
   "outputs": [],
   "source": [
    "columns = df.columns"
   ]
  },
  {
   "cell_type": "markdown",
   "metadata": {},
   "source": [
    "## Data Exploration"
   ]
  },
  {
   "cell_type": "markdown",
   "metadata": {},
   "source": [
    "First, I'm curious to look at each X variables relation to Deposit."
   ]
  },
  {
   "cell_type": "markdown",
   "metadata": {},
   "source": [
    "Hypothesis: people with personal loans are less likely to get a term deposit because they are less financially responsible. "
   ]
  },
  {
   "cell_type": "code",
   "execution_count": 10,
   "metadata": {},
   "outputs": [
    {
     "name": "stdout",
     "output_type": "stream",
     "text": [
      "loan       no   yes    All\n",
      "deposit                   \n",
      "no       4897   976   5873\n",
      "yes      4805   484   5289\n",
      "All      9702  1460  11162\n"
     ]
    }
   ],
   "source": [
    "contingency_table = pd.crosstab(df.deposit, df.loan, margins=True)\n",
    "print(contingency_table)"
   ]
  },
  {
   "cell_type": "code",
   "execution_count": 12,
   "metadata": {},
   "outputs": [
    {
     "data": {
      "text/plain": [
       "loan  deposit\n",
       "no    no         4897\n",
       "      yes        4805\n",
       "yes   no          976\n",
       "      yes         484\n",
       "Name: count, dtype: int64"
      ]
     },
     "execution_count": 12,
     "metadata": {},
     "output_type": "execute_result"
    }
   ],
   "source": [
    "df.groupby('loan').deposit.value_counts()"
   ]
  },
  {
   "cell_type": "code",
   "execution_count": 27,
   "metadata": {},
   "outputs": [
    {
     "data": {
      "text/html": [
       "<div>\n",
       "<style scoped>\n",
       "    .dataframe tbody tr th:only-of-type {\n",
       "        vertical-align: middle;\n",
       "    }\n",
       "\n",
       "    .dataframe tbody tr th {\n",
       "        vertical-align: top;\n",
       "    }\n",
       "\n",
       "    .dataframe thead th {\n",
       "        text-align: right;\n",
       "    }\n",
       "</style>\n",
       "<table border=\"1\" class=\"dataframe\">\n",
       "  <thead>\n",
       "    <tr style=\"text-align: right;\">\n",
       "      <th></th>\n",
       "      <th>loan</th>\n",
       "      <th>DEPOSIT_RATE</th>\n",
       "    </tr>\n",
       "  </thead>\n",
       "  <tbody>\n",
       "    <tr>\n",
       "      <th>0</th>\n",
       "      <td>no</td>\n",
       "      <td>0.495259</td>\n",
       "    </tr>\n",
       "    <tr>\n",
       "      <th>1</th>\n",
       "      <td>yes</td>\n",
       "      <td>0.331507</td>\n",
       "    </tr>\n",
       "  </tbody>\n",
       "</table>\n",
       "</div>"
      ],
      "text/plain": [
       "  loan  DEPOSIT_RATE\n",
       "0   no      0.495259\n",
       "1  yes      0.331507"
      ]
     },
     "execution_count": 27,
     "metadata": {},
     "output_type": "execute_result"
    }
   ],
   "source": [
    "pdsqldf(\"\"\"\n",
    "SELECT LOAN, \n",
    "        AVG(CASE WHEN deposit = 'yes' THEN 1 ELSE 0 END)  AS DEPOSIT_RATE\n",
    "FROM df \n",
    "WHERE DEPOSIT is NOT NULL\n",
    "GROUP BY LOAN\n",
    "\"\"\")"
   ]
  },
  {
   "cell_type": "code",
   "execution_count": 30,
   "metadata": {},
   "outputs": [
    {
     "data": {
      "text/html": [
       "<div>\n",
       "<style scoped>\n",
       "    .dataframe tbody tr th:only-of-type {\n",
       "        vertical-align: middle;\n",
       "    }\n",
       "\n",
       "    .dataframe tbody tr th {\n",
       "        vertical-align: top;\n",
       "    }\n",
       "\n",
       "    .dataframe thead th {\n",
       "        text-align: right;\n",
       "    }\n",
       "</style>\n",
       "<table border=\"1\" class=\"dataframe\">\n",
       "  <thead>\n",
       "    <tr style=\"text-align: right;\">\n",
       "      <th></th>\n",
       "      <th>loan</th>\n",
       "      <th>DEPOSIT_RATE</th>\n",
       "      <th>TOTAL</th>\n",
       "    </tr>\n",
       "  </thead>\n",
       "  <tbody>\n",
       "    <tr>\n",
       "      <th>0</th>\n",
       "      <td>no</td>\n",
       "      <td>0.495259</td>\n",
       "      <td>9702</td>\n",
       "    </tr>\n",
       "    <tr>\n",
       "      <th>1</th>\n",
       "      <td>yes</td>\n",
       "      <td>0.331507</td>\n",
       "      <td>1460</td>\n",
       "    </tr>\n",
       "  </tbody>\n",
       "</table>\n",
       "</div>"
      ],
      "text/plain": [
       "  loan  DEPOSIT_RATE  TOTAL\n",
       "0   no      0.495259   9702\n",
       "1  yes      0.331507   1460"
      ]
     },
     "execution_count": 30,
     "metadata": {},
     "output_type": "execute_result"
    }
   ],
   "source": [
    "# Filter out null deposits first\n",
    "df_filtered = df[df['deposit'].notna()]\n",
    "\n",
    "# Calculate deposit rate\n",
    "result = (\n",
    "    df_filtered.groupby('loan')['deposit']\n",
    "    .agg(\n",
    "        DEPOSIT_RATE=lambda x: (x == 'yes').mean(),  # mean() gives the rate\n",
    "        TOTAL='count'  # Optional: include count if needed\n",
    "    )\n",
    "    .reset_index()\n",
    ")\n",
    "\n",
    "result"
   ]
  },
  {
   "cell_type": "markdown",
   "metadata": {},
   "source": [
    "Hypothesis: people with higher education are more likely to subscribe to a term deposit."
   ]
  },
  {
   "cell_type": "code",
   "execution_count": 33,
   "metadata": {},
   "outputs": [
    {
     "data": {
      "text/html": [
       "<div>\n",
       "<style scoped>\n",
       "    .dataframe tbody tr th:only-of-type {\n",
       "        vertical-align: middle;\n",
       "    }\n",
       "\n",
       "    .dataframe tbody tr th {\n",
       "        vertical-align: top;\n",
       "    }\n",
       "\n",
       "    .dataframe thead th {\n",
       "        text-align: right;\n",
       "    }\n",
       "</style>\n",
       "<table border=\"1\" class=\"dataframe\">\n",
       "  <thead>\n",
       "    <tr style=\"text-align: right;\">\n",
       "      <th></th>\n",
       "      <th>education</th>\n",
       "      <th>DEPOSIT_RATE</th>\n",
       "      <th>TOTAL</th>\n",
       "    </tr>\n",
       "  </thead>\n",
       "  <tbody>\n",
       "    <tr>\n",
       "      <th>0</th>\n",
       "      <td>primary</td>\n",
       "      <td>0.394000</td>\n",
       "      <td>1500</td>\n",
       "    </tr>\n",
       "    <tr>\n",
       "      <th>1</th>\n",
       "      <td>secondary</td>\n",
       "      <td>0.447407</td>\n",
       "      <td>5476</td>\n",
       "    </tr>\n",
       "    <tr>\n",
       "      <th>2</th>\n",
       "      <td>tertiary</td>\n",
       "      <td>0.541068</td>\n",
       "      <td>3689</td>\n",
       "    </tr>\n",
       "    <tr>\n",
       "      <th>3</th>\n",
       "      <td>unknown</td>\n",
       "      <td>0.507042</td>\n",
       "      <td>497</td>\n",
       "    </tr>\n",
       "  </tbody>\n",
       "</table>\n",
       "</div>"
      ],
      "text/plain": [
       "   education  DEPOSIT_RATE  TOTAL\n",
       "0    primary      0.394000   1500\n",
       "1  secondary      0.447407   5476\n",
       "2   tertiary      0.541068   3689\n",
       "3    unknown      0.507042    497"
      ]
     },
     "execution_count": 33,
     "metadata": {},
     "output_type": "execute_result"
    }
   ],
   "source": [
    "(df.groupby('education')['deposit']\n",
    ".agg(\n",
    "    DEPOSIT_RATE=lambda x: (x == 'yes').mean(),  # mean() gives the rate\n",
    "    TOTAL='count'  # Optional: include count if needed\n",
    ")\n",
    ".reset_index())"
   ]
  },
  {
   "cell_type": "markdown",
   "metadata": {},
   "source": [
    "Hypothesis: people that are married are more likely to subscribe to a term deposit."
   ]
  },
  {
   "cell_type": "markdown",
   "metadata": {},
   "source": [
    "Hypothesis: people with a housing loan are more likely to subscribe to a term deposit."
   ]
  },
  {
   "cell_type": "markdown",
   "metadata": {},
   "source": [
    "Hypothesis: people contacted more recently are more likely to subscribe."
   ]
  },
  {
   "cell_type": "markdown",
   "metadata": {},
   "source": [
    "## Split into Train and Test \n",
    "\n",
    "We may want to do some stratified splitting"
   ]
  },
  {
   "cell_type": "code",
   "execution_count": 36,
   "metadata": {},
   "outputs": [
    {
     "name": "stdout",
     "output_type": "stream",
     "text": [
      "loan\n",
      "no     0.86919\n",
      "yes    0.13081\n",
      "Name: count, dtype: float64\n",
      "loan\n",
      "no     0.869234\n",
      "yes    0.130766\n",
      "Name: count, dtype: float64\n"
     ]
    }
   ],
   "source": [
    "from sklearn.model_selection import StratifiedShuffleSplit\n",
    "# Here we split the data into training and test sets and implement a stratified shuffle split.\n",
    "stratified = StratifiedShuffleSplit(n_splits=1, test_size=0.2, random_state=42)\n",
    "\n",
    "for train_set, test_set in stratified.split(df, df[\"loan\"]):\n",
    "    stratified_train = df.loc[train_set]\n",
    "    stratified_test = df.loc[test_set]\n",
    "    \n",
    "print(stratified_train[\"loan\"].value_counts()/len(stratified_train))\n",
    "print(stratified_test[\"loan\"].value_counts()/len(stratified_test))"
   ]
  },
  {
   "cell_type": "code",
   "execution_count": 37,
   "metadata": {},
   "outputs": [],
   "source": [
    "X_train = stratified_train.drop(\"deposit\", axis=1)\n",
    "y_train = stratified_train[\"deposit\"].copy()\n",
    "\n",
    "X_test = stratified_test.drop(\"deposit\", axis=1)\n",
    "y_test = stratified_test[\"deposit\"].copy()"
   ]
  },
  {
   "cell_type": "code",
   "execution_count": 42,
   "metadata": {},
   "outputs": [],
   "source": [
    "categorical_columns = list_categorical_columns(X_train)\n",
    "numeric_columns = list_numerical_columns(X_train)"
   ]
  },
  {
   "cell_type": "code",
   "execution_count": 96,
   "metadata": {},
   "outputs": [],
   "source": [
    "numerical_transformer = StandardScaler() # only if using l1 or l2 regularization\n",
    "categorical_transformer = Pipeline(steps=[\n",
    "    #('imputer', SimpleImputer(strategy='most_frequent')), # mode imputation for missing categoricals\n",
    "    ('onehot', OneHotEncoder(handle_unknown='ignore')) # one hot encoding\n",
    "])\n",
    "\n",
    "preprocessor = ColumnTransformer(\n",
    "    transformers=[\n",
    "        ('num', numerical_transformer, numeric_columns),\n",
    "        ('cat', categorical_transformer, categorical_columns)\n",
    "    ]\n",
    ")\n",
    "my_preprocessing_pipeline = Pipeline(steps=[('preprocessor', preprocessor)])"
   ]
  },
  {
   "cell_type": "code",
   "execution_count": 97,
   "metadata": {},
   "outputs": [],
   "source": [
    "X_train_preprocessed = my_preprocessing_pipeline.fit_transform(X_train)\n",
    "new_columns = my_preprocessing_pipeline.get_feature_names_out()\n",
    "X_test_preprocessed = my_preprocessing_pipeline.transform(X_test)\n",
    "\n",
    "y_test = y_test.replace({'yes': 1, 'no': 0})\n",
    "y_train = y_train.replace({'yes': 1, 'no': 0})"
   ]
  },
  {
   "cell_type": "code",
   "execution_count": 98,
   "metadata": {},
   "outputs": [
    {
     "data": {
      "text/plain": [
       "0.7989134678053055"
      ]
     },
     "execution_count": 98,
     "metadata": {},
     "output_type": "execute_result"
    }
   ],
   "source": [
    "from sklearn.model_selection import cross_val_score\n",
    "\n",
    "# Logistic Regression\n",
    "log_reg = LogisticRegression()\n",
    "log_scores = cross_val_score(log_reg, X_train_preprocessed, y_train, cv=3, scoring='recall')\n",
    "log_scores.mean()"
   ]
  },
  {
   "cell_type": "code",
   "execution_count": 99,
   "metadata": {},
   "outputs": [
    {
     "data": {
      "text/plain": [
       "(8929, 2)"
      ]
     },
     "execution_count": 99,
     "metadata": {},
     "output_type": "execute_result"
    }
   ],
   "source": [
    "from sklearn.model_selection import cross_val_predict\n",
    "\n",
    "y_train_pred_prob = cross_val_predict(log_reg, X_train_preprocessed, y_train, cv=3, method='predict_proba')\n",
    "y_train_pred_prob.shape"
   ]
  },
  {
   "cell_type": "code",
   "execution_count": 100,
   "metadata": {},
   "outputs": [
    {
     "name": "stdout",
     "output_type": "stream",
     "text": [
      "Precision Score:  0.7987352812908853\n",
      "Recall Score:  0.8655482041587902\n"
     ]
    }
   ],
   "source": [
    "print('Precision Score: ', precision_score(y_train, y_train_pred_prob[:, 1] > .4))\n",
    "print('Recall Score: ', recall_score(y_train,  y_train_pred_prob[: , 1] > .4))"
   ]
  },
  {
   "cell_type": "code",
   "execution_count": 101,
   "metadata": {},
   "outputs": [
    {
     "data": {
      "text/plain": [
       "<sklearn.metrics._plot.roc_curve.RocCurveDisplay at 0x1ba92300a50>"
      ]
     },
     "execution_count": 101,
     "metadata": {},
     "output_type": "execute_result"
    },
    {
     "data": {
      "image/png": "[encoded data removed]",
      "text/plain": [
       "<Figure size 640x480 with 1 Axes>"
      ]
     },
     "metadata": {},
     "output_type": "display_data"
    }
   ],
   "source": [
    "final_model = log_reg.fit(X_train_preprocessed, y_train)\n",
    "\n",
    "RocCurveDisplay.from_estimator(final_model, X_test_preprocessed, y_test)"
   ]
  },
  {
   "cell_type": "code",
   "execution_count": 102,
   "metadata": {},
   "outputs": [
    {
     "data": {
      "text/plain": [
       "<sklearn.metrics._plot.precision_recall_curve.PrecisionRecallDisplay at 0x1ba96c846d0>"
      ]
     },
     "execution_count": 102,
     "metadata": {},
     "output_type": "execute_result"
    },
    {
     "data": {
      "image/png": "[encoded data removed]",
      "text/plain": [
       "<Figure size 640x480 with 1 Axes>"
      ]
     },
     "metadata": {},
     "output_type": "display_data"
    }
   ],
   "source": [
    "PrecisionRecallDisplay.from_estimator(final_model, X_test_preprocessed, y_test)"
   ]
  },
  {
   "cell_type": "markdown",
   "metadata": {},
   "source": [
    "## F Beta Score\n",
    "\n",
    "F1 Score is just a special case of F Beta score.\n",
    "\n",
    "$ F_{beta} = (1 + \\beta^2) \\frac{precision*recall}{\\beta^2 * precision + recall} $\n",
    "\n",
    "If we care twice as much about recall, then we would use an F2 score where $\\beta = 2$."
   ]
  },
  {
   "cell_type": "markdown",
   "metadata": {},
   "source": [
    "Interpreting Logistic Regression Coefficients"
   ]
  },
  {
   "cell_type": "code",
   "execution_count": 103,
   "metadata": {},
   "outputs": [
    {
     "name": "stdout",
     "output_type": "stream",
     "text": [
      "intercept  0.15651212356694413\n",
      "classes [0 1]\n"
     ]
    },
    {
     "data": {
      "text/html": [
       "<div>\n",
       "<style scoped>\n",
       "    .dataframe tbody tr th:only-of-type {\n",
       "        vertical-align: middle;\n",
       "    }\n",
       "\n",
       "    .dataframe tbody tr th {\n",
       "        vertical-align: top;\n",
       "    }\n",
       "\n",
       "    .dataframe thead th {\n",
       "        text-align: right;\n",
       "    }\n",
       "</style>\n",
       "<table border=\"1\" class=\"dataframe\">\n",
       "  <thead>\n",
       "    <tr style=\"text-align: right;\">\n",
       "      <th></th>\n",
       "      <th>coeff</th>\n",
       "      <th>odds_ratio</th>\n",
       "    </tr>\n",
       "  </thead>\n",
       "  <tbody>\n",
       "    <tr>\n",
       "      <th>num__age</th>\n",
       "      <td>-0.009492</td>\n",
       "      <td>0.990553</td>\n",
       "    </tr>\n",
       "    <tr>\n",
       "      <th>num__balance</th>\n",
       "      <td>0.090497</td>\n",
       "      <td>1.094718</td>\n",
       "    </tr>\n",
       "    <tr>\n",
       "      <th>num__day</th>\n",
       "      <td>0.058656</td>\n",
       "      <td>1.060411</td>\n",
       "    </tr>\n",
       "    <tr>\n",
       "      <th>num__duration</th>\n",
       "      <td>1.912581</td>\n",
       "      <td>6.770541</td>\n",
       "    </tr>\n",
       "    <tr>\n",
       "      <th>num__campaign</th>\n",
       "      <td>-0.279931</td>\n",
       "      <td>0.755836</td>\n",
       "    </tr>\n",
       "    <tr>\n",
       "      <th>num__pdays</th>\n",
       "      <td>-0.003561</td>\n",
       "      <td>0.996446</td>\n",
       "    </tr>\n",
       "    <tr>\n",
       "      <th>num__previous</th>\n",
       "      <td>0.081007</td>\n",
       "      <td>1.084378</td>\n",
       "    </tr>\n",
       "    <tr>\n",
       "      <th>cat__job_admin.</th>\n",
       "      <td>0.072560</td>\n",
       "      <td>1.075257</td>\n",
       "    </tr>\n",
       "    <tr>\n",
       "      <th>cat__job_blue-collar</th>\n",
       "      <td>-0.180053</td>\n",
       "      <td>0.835226</td>\n",
       "    </tr>\n",
       "    <tr>\n",
       "      <th>cat__job_entrepreneur</th>\n",
       "      <td>-0.123700</td>\n",
       "      <td>0.883645</td>\n",
       "    </tr>\n",
       "    <tr>\n",
       "      <th>cat__job_housemaid</th>\n",
       "      <td>-0.314662</td>\n",
       "      <td>0.730036</td>\n",
       "    </tr>\n",
       "    <tr>\n",
       "      <th>cat__job_management</th>\n",
       "      <td>-0.032932</td>\n",
       "      <td>0.967605</td>\n",
       "    </tr>\n",
       "    <tr>\n",
       "      <th>cat__job_retired</th>\n",
       "      <td>0.427823</td>\n",
       "      <td>1.533914</td>\n",
       "    </tr>\n",
       "    <tr>\n",
       "      <th>cat__job_self-employed</th>\n",
       "      <td>-0.150508</td>\n",
       "      <td>0.860271</td>\n",
       "    </tr>\n",
       "    <tr>\n",
       "      <th>cat__job_services</th>\n",
       "      <td>-0.085521</td>\n",
       "      <td>0.918034</td>\n",
       "    </tr>\n",
       "    <tr>\n",
       "      <th>cat__job_student</th>\n",
       "      <td>0.661894</td>\n",
       "      <td>1.938461</td>\n",
       "    </tr>\n",
       "    <tr>\n",
       "      <th>cat__job_technician</th>\n",
       "      <td>0.003791</td>\n",
       "      <td>1.003798</td>\n",
       "    </tr>\n",
       "    <tr>\n",
       "      <th>cat__job_unemployed</th>\n",
       "      <td>0.033833</td>\n",
       "      <td>1.034411</td>\n",
       "    </tr>\n",
       "    <tr>\n",
       "      <th>cat__job_unknown</th>\n",
       "      <td>-0.180572</td>\n",
       "      <td>0.834793</td>\n",
       "    </tr>\n",
       "    <tr>\n",
       "      <th>cat__marital_divorced</th>\n",
       "      <td>0.043903</td>\n",
       "      <td>1.044881</td>\n",
       "    </tr>\n",
       "    <tr>\n",
       "      <th>cat__marital_married</th>\n",
       "      <td>-0.091259</td>\n",
       "      <td>0.912781</td>\n",
       "    </tr>\n",
       "    <tr>\n",
       "      <th>cat__marital_single</th>\n",
       "      <td>0.179308</td>\n",
       "      <td>1.196390</td>\n",
       "    </tr>\n",
       "    <tr>\n",
       "      <th>cat__education_primary</th>\n",
       "      <td>-0.191626</td>\n",
       "      <td>0.825615</td>\n",
       "    </tr>\n",
       "    <tr>\n",
       "      <th>cat__education_secondary</th>\n",
       "      <td>0.055841</td>\n",
       "      <td>1.057429</td>\n",
       "    </tr>\n",
       "    <tr>\n",
       "      <th>cat__education_tertiary</th>\n",
       "      <td>0.223112</td>\n",
       "      <td>1.249960</td>\n",
       "    </tr>\n",
       "    <tr>\n",
       "      <th>cat__education_unknown</th>\n",
       "      <td>0.044627</td>\n",
       "      <td>1.045638</td>\n",
       "    </tr>\n",
       "    <tr>\n",
       "      <th>cat__default_no</th>\n",
       "      <td>0.083225</td>\n",
       "      <td>1.086786</td>\n",
       "    </tr>\n",
       "    <tr>\n",
       "      <th>cat__default_yes</th>\n",
       "      <td>0.048728</td>\n",
       "      <td>1.049935</td>\n",
       "    </tr>\n",
       "    <tr>\n",
       "      <th>cat__housing_no</th>\n",
       "      <td>0.414864</td>\n",
       "      <td>1.514165</td>\n",
       "    </tr>\n",
       "    <tr>\n",
       "      <th>cat__housing_yes</th>\n",
       "      <td>-0.282911</td>\n",
       "      <td>0.753587</td>\n",
       "    </tr>\n",
       "    <tr>\n",
       "      <th>cat__loan_no</th>\n",
       "      <td>0.310108</td>\n",
       "      <td>1.363572</td>\n",
       "    </tr>\n",
       "    <tr>\n",
       "      <th>cat__loan_yes</th>\n",
       "      <td>-0.178155</td>\n",
       "      <td>0.836813</td>\n",
       "    </tr>\n",
       "    <tr>\n",
       "      <th>cat__contact_cellular</th>\n",
       "      <td>0.545880</td>\n",
       "      <td>1.726127</td>\n",
       "    </tr>\n",
       "    <tr>\n",
       "      <th>cat__contact_telephone</th>\n",
       "      <td>0.531607</td>\n",
       "      <td>1.701665</td>\n",
       "    </tr>\n",
       "    <tr>\n",
       "      <th>cat__contact_unknown</th>\n",
       "      <td>-0.945534</td>\n",
       "      <td>0.388472</td>\n",
       "    </tr>\n",
       "    <tr>\n",
       "      <th>cat__month_apr</th>\n",
       "      <td>-0.006715</td>\n",
       "      <td>0.993307</td>\n",
       "    </tr>\n",
       "    <tr>\n",
       "      <th>cat__month_aug</th>\n",
       "      <td>-0.832946</td>\n",
       "      <td>0.434766</td>\n",
       "    </tr>\n",
       "    <tr>\n",
       "      <th>cat__month_dec</th>\n",
       "      <td>1.086742</td>\n",
       "      <td>2.964599</td>\n",
       "    </tr>\n",
       "    <tr>\n",
       "      <th>cat__month_feb</th>\n",
       "      <td>-0.197676</td>\n",
       "      <td>0.820636</td>\n",
       "    </tr>\n",
       "    <tr>\n",
       "      <th>cat__month_jan</th>\n",
       "      <td>-1.418662</td>\n",
       "      <td>0.242038</td>\n",
       "    </tr>\n",
       "    <tr>\n",
       "      <th>cat__month_jul</th>\n",
       "      <td>-1.015247</td>\n",
       "      <td>0.362313</td>\n",
       "    </tr>\n",
       "    <tr>\n",
       "      <th>cat__month_jun</th>\n",
       "      <td>0.256895</td>\n",
       "      <td>1.292909</td>\n",
       "    </tr>\n",
       "    <tr>\n",
       "      <th>cat__month_mar</th>\n",
       "      <td>2.039957</td>\n",
       "      <td>7.690275</td>\n",
       "    </tr>\n",
       "    <tr>\n",
       "      <th>cat__month_may</th>\n",
       "      <td>-0.749363</td>\n",
       "      <td>0.472668</td>\n",
       "    </tr>\n",
       "    <tr>\n",
       "      <th>cat__month_nov</th>\n",
       "      <td>-0.963025</td>\n",
       "      <td>0.381736</td>\n",
       "    </tr>\n",
       "    <tr>\n",
       "      <th>cat__month_oct</th>\n",
       "      <td>1.092302</td>\n",
       "      <td>2.981129</td>\n",
       "    </tr>\n",
       "    <tr>\n",
       "      <th>cat__month_sep</th>\n",
       "      <td>0.839692</td>\n",
       "      <td>2.315653</td>\n",
       "    </tr>\n",
       "    <tr>\n",
       "      <th>cat__poutcome_failure</th>\n",
       "      <td>-0.474223</td>\n",
       "      <td>0.622369</td>\n",
       "    </tr>\n",
       "    <tr>\n",
       "      <th>cat__poutcome_other</th>\n",
       "      <td>-0.416071</td>\n",
       "      <td>0.659633</td>\n",
       "    </tr>\n",
       "    <tr>\n",
       "      <th>cat__poutcome_success</th>\n",
       "      <td>1.750897</td>\n",
       "      <td>5.759768</td>\n",
       "    </tr>\n",
       "    <tr>\n",
       "      <th>cat__poutcome_unknown</th>\n",
       "      <td>-0.728650</td>\n",
       "      <td>0.482560</td>\n",
       "    </tr>\n",
       "  </tbody>\n",
       "</table>\n",
       "</div>"
      ],
      "text/plain": [
       "                             coeff  odds_ratio\n",
       "num__age                 -0.009492    0.990553\n",
       "num__balance              0.090497    1.094718\n",
       "num__day                  0.058656    1.060411\n",
       "num__duration             1.912581    6.770541\n",
       "num__campaign            -0.279931    0.755836\n",
       "num__pdays               -0.003561    0.996446\n",
       "num__previous             0.081007    1.084378\n",
       "cat__job_admin.           0.072560    1.075257\n",
       "cat__job_blue-collar     -0.180053    0.835226\n",
       "cat__job_entrepreneur    -0.123700    0.883645\n",
       "cat__job_housemaid       -0.314662    0.730036\n",
       "cat__job_management      -0.032932    0.967605\n",
       "cat__job_retired          0.427823    1.533914\n",
       "cat__job_self-employed   -0.150508    0.860271\n",
       "cat__job_services        -0.085521    0.918034\n",
       "cat__job_student          0.661894    1.938461\n",
       "cat__job_technician       0.003791    1.003798\n",
       "cat__job_unemployed       0.033833    1.034411\n",
       "cat__job_unknown         -0.180572    0.834793\n",
       "cat__marital_divorced     0.043903    1.044881\n",
       "cat__marital_married     -0.091259    0.912781\n",
       "cat__marital_single       0.179308    1.196390\n",
       "cat__education_primary   -0.191626    0.825615\n",
       "cat__education_secondary  0.055841    1.057429\n",
       "cat__education_tertiary   0.223112    1.249960\n",
       "cat__education_unknown    0.044627    1.045638\n",
       "cat__default_no           0.083225    1.086786\n",
       "cat__default_yes          0.048728    1.049935\n",
       "cat__housing_no           0.414864    1.514165\n",
       "cat__housing_yes         -0.282911    0.753587\n",
       "cat__loan_no              0.310108    1.363572\n",
       "cat__loan_yes            -0.178155    0.836813\n",
       "cat__contact_cellular     0.545880    1.726127\n",
       "cat__contact_telephone    0.531607    1.701665\n",
       "cat__contact_unknown     -0.945534    0.388472\n",
       "cat__month_apr           -0.006715    0.993307\n",
       "cat__month_aug           -0.832946    0.434766\n",
       "cat__month_dec            1.086742    2.964599\n",
       "cat__month_feb           -0.197676    0.820636\n",
       "cat__month_jan           -1.418662    0.242038\n",
       "cat__month_jul           -1.015247    0.362313\n",
       "cat__month_jun            0.256895    1.292909\n",
       "cat__month_mar            2.039957    7.690275\n",
       "cat__month_may           -0.749363    0.472668\n",
       "cat__month_nov           -0.963025    0.381736\n",
       "cat__month_oct            1.092302    2.981129\n",
       "cat__month_sep            0.839692    2.315653\n",
       "cat__poutcome_failure    -0.474223    0.622369\n",
       "cat__poutcome_other      -0.416071    0.659633\n",
       "cat__poutcome_success     1.750897    5.759768\n",
       "cat__poutcome_unknown    -0.728650    0.482560"
      ]
     },
     "execution_count": 103,
     "metadata": {},
     "output_type": "execute_result"
    }
   ],
   "source": [
    "print('intercept ', log_reg.intercept_[0])\n",
    "print('classes', log_reg.classes_)\n",
    "pd.DataFrame({'coeff': log_reg.coef_[0],\n",
    "              'odds_ratio' : np.exp(log_reg.coef_[0])}, \n",
    "             index=new_columns)"
   ]
  }
 ],
 "metadata": {
  "kernelspec": {
   "display_name": "data-science-toolkit",
   "language": "python",
   "name": "python3"
  },
  "language_info": {
   "codemirror_mode": {
    "name": "ipython",
    "version": 3
   },
   "file_extension": ".py",
   "mimetype": "text/x-python",
   "name": "python",
   "nbconvert_exporter": "python",
   "pygments_lexer": "ipython3",
   "version": "3.11.11"
  }
 },
 "nbformat": 4,
 "nbformat_minor": 2
}
